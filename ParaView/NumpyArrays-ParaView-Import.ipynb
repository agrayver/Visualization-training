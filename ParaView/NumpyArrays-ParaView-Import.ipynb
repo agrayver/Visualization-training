{
 "cells": [
  {
   "cell_type": "markdown",
   "metadata": {},
   "source": [
    "# Definition of some basic support to import numpy arrays into VTK Objects.\n",
    "\n",
    "Work in progress.\n",
    "\n",
    "Written by Jean M Favre, Swiss National Supercomputing Center, as a proof of\n",
    "concept. It is a very rudimentary thing. It needs generalization for CellData,\n",
    "for vtkPolyData, for 1D and 2D grids and parallel support. It assumes 3D grids.\n",
    "\n",
    "Tested on Piz Daint Sat 10 Oct 2020 01:15:44 PM CEST"
   ]
  },
  {
   "cell_type": "code",
   "execution_count": null,
   "metadata": {},
   "outputs": [],
   "source": [
    "from paraview.simple import *\n",
    "import numpy as np"
   ]
  },
  {
   "cell_type": "code",
   "execution_count": null,
   "metadata": {},
   "outputs": [],
   "source": [
    "import vtk\n",
    "from vtk.numpy_interface import algorithms as algs\n",
    "from vtk.util import numpy_support as vtknp\n",
    "\n",
    "class vtkStructuredGridFromArrays:\n",
    "    def __init__(self):\n",
    "        self.__mesh = vtk.vtkStructuredGrid()\n",
    "        self.__dims = [-1,-1,-1]\n",
    "    \n",
    "    def SetVCoordinates(self, cArray):\n",
    "        assert len(cArray.shape) == 1\n",
    "        self.__mesh.Points = vtknp.numpy_to_vtk(cArray)\n",
    "        self.__dims[0] = cArray.shape[0]\n",
    "        \n",
    "        self.__mesh.SetDimensions(self.__dims)\n",
    "        \n",
    "    def SetCoordinates(self, cArray0, cArray1, cArray2):\n",
    "        assert len(cArray0.shape) == 3\n",
    "        assert len(cArray1.shape) == 3\n",
    "        assert len(cArray2.shape) == 3\n",
    "        assert cArray2.shape == cArray1.shape\n",
    "        assert cArray2.shape == cArray0.shape\n",
    "        points = vtk.vtkPoints()\n",
    "        self.__mesh.SetPoints(points)\n",
    "        points.SetData(vtknp.numpy_to_vtk(\n",
    "           algs.make_vector(cArray0.ravel(), cArray1.ravel(), cArray2.ravel()))\n",
    "           )\n",
    "        self.__dims = np.flip(cArray0.shape)\n",
    "        self.__mesh.SetDimensions(self.__dims)\n",
    "        \n",
    "    def GetDimensions(self):\n",
    "        self.__dims = self.__mesh.GetDimensions()\n",
    "        return self.__dims\n",
    "        \n",
    "    def AddArray(self, dArray, name):\n",
    "        assert np.prod(dArray.shape) == np.prod(self.__dims)\n",
    "        vtkarr = vtknp.numpy_to_vtk(dArray.ravel())\n",
    "        vtkarr.SetName(name)\n",
    "        self.__mesh.GetPointData().AddArray(vtkarr)\n",
    "        if len(dArray.shape) == 1:\n",
    "          self.__mesh.GetPointData().SetActiveScalars(name)\n",
    "    def GetOutput(self):\n",
    "        return self.__mesh\n",
    "        \n",
    "class vtkRectGridFromArrays:\n",
    "    def __init__(self):\n",
    "        self.__mesh = vtk.vtkRectilinearGrid()\n",
    "        self.__dims = [-1,-1,-1]\n",
    "\n",
    "    def SetCoordinates(self, cArray0, cArray1, cArray2):\n",
    "        assert len(cArray0.shape) == 1\n",
    "        self.__mesh.SetXCoordinates(vtknp.numpy_to_vtk(cArray0))\n",
    "        self.__dims[0] = cArray0.shape[0]\n",
    "        \n",
    "        assert len(cArray1.shape) == 1\n",
    "        self.__mesh.SetYCoordinates(vtknp.numpy_to_vtk(cArray1))\n",
    "        self.__dims[1] = cArray1.shape[0]\n",
    "\n",
    "        assert len(cArray2.shape) == 1\n",
    "        self.__mesh.SetZCoordinates(vtknp.numpy_to_vtk(cArray2))\n",
    "        self.__dims[2] = cArray2.shape[0]\n",
    "        \n",
    "        self.__mesh.SetDimensions(self.__dims)\n",
    "\n",
    "    def GetDimensions(self):\n",
    "        return self.__mesh.GetDimensions()\n",
    "\n",
    "    def AddArray(self, dArray, name):\n",
    "        assert np.prod(dArray.shape) == np.prod(self.__dims)\n",
    "        vtkarr = vtknp.numpy_to_vtk(dArray.ravel())\n",
    "        vtkarr.SetName(name)\n",
    "        self.__mesh.GetPointData().AddArray(vtkarr)\n",
    "        self.__mesh.GetPointData().SetActiveScalars(name)\n",
    "\n",
    "    def GetOutput(self):\n",
    "        return self.__mesh\n",
    "\n",
    "# a very rudimentary Point Cloud\n",
    "class vtkPointSetFromArrays:\n",
    "    def __init__(self):\n",
    "        self.__mesh = vtk.vtkPolyData()\n",
    "        self.__nnodes = 0\n",
    "    \n",
    "    def Make_PolyVertex(self):\n",
    "      assert self.__nnodes > 0\n",
    "      mlist = vtk.vtkIdList()\n",
    "      mlist.SetNumberOfIds(self.__nnodes)\n",
    "      for ii in range(self.__nnodes):\n",
    "        mlist.SetId(ii, ii)\n",
    "      self.__mesh.Allocate(1)\n",
    "      self.__mesh.InsertNextCell(vtk.VTK_POLY_VERTEX, mlist)\n",
    "\n",
    "    def SetVCoordinates(self, cArray):\n",
    "        assert len(cArray.shape) == 2 and cArray.shape[1] == 3\n",
    "        points = vtk.vtkPoints()\n",
    "        self.__mesh.SetPoints(points)\n",
    "        points.SetData(vtknp.numpy_to_vtk(cArray))\n",
    "        self.__nnodes = cArray.shape[0]\n",
    "        self.Make_PolyVertex()\n",
    "\n",
    "    def SetCoordinates(self, cArray0, cArray1, cArray2):\n",
    "        assert len(cArray0.shape) == 1\n",
    "        assert len(cArray1.shape) == 1\n",
    "        assert len(cArray2.shape) == 1\n",
    "        assert cArray2.shape == cArray1.shape\n",
    "        assert cArray2.shape == cArray0.shape\n",
    "        points = vtk.vtkPoints()\n",
    "        self.__mesh.SetPoints(points)\n",
    "        points.SetData(vtknp.numpy_to_vtk(\n",
    "          algs.make_vector(cArray0, cArray1, cArray2))\n",
    "          )\n",
    "        self.__nnodes = cArray0.shape[0]\n",
    "        self.Make_PolyVertex()\n",
    "\n",
    "    def AddArray(self, dArray, name):\n",
    "        assert dArray.shape[0] == self.__nnodes\n",
    "        vtkarr = vtknp.numpy_to_vtk(dArray.ravel())\n",
    "        vtkarr.SetName(name)\n",
    "        self.__mesh.GetPointData().AddArray(vtkarr)\n",
    "        if len(dArray.shape) == 1:\n",
    "          self.__mesh.GetPointData().SetActiveScalars(name)\n",
    "\n",
    "    def GetOutput(self):\n",
    "        return self.__mesh"
   ]
  },
  {
   "cell_type": "code",
   "execution_count": null,
   "metadata": {},
   "outputs": [],
   "source": [
    "# Testing a regular cartesian grid, a.k.a. vtkImageData"
   ]
  },
  {
   "cell_type": "code",
   "execution_count": null,
   "metadata": {},
   "outputs": [],
   "source": [
    "dims = [64,64,64]\n",
    "bounds = (-10.0, 10.0, -10.0, 10.0,-10.0, 10.0)\n",
    "xaxis = np.linspace(bounds[0], bounds[1], dims[0])\n",
    "yaxis = np.linspace(bounds[2], bounds[3], dims[1])\n",
    "zaxis = np.linspace(bounds[4], bounds[5], dims[2])\n",
    "[xc,yc,zc] = np.meshgrid(zaxis,yaxis,xaxis, indexing=\"ij\")\n",
    "data = xc**2 + yc**2 + zc**2\n",
    "\n",
    "from vtk.util.vtkImageImportFromArray import vtkImageImportFromArray\n",
    "iD = vtkImageImportFromArray()\n",
    "iD.SetArray(data) # it is given the name \"scalars\" by default\n",
    "iD.SetDataOrigin((bounds[0], bounds[2], bounds[4]))\n",
    "iD.SetDataSpacing(((bounds[1]-bounds[0])/(dims[0]-1),\n",
    "                   (bounds[3]-bounds[2])/(dims[0]-1),\n",
    "                   (bounds[5]-bounds[4])/(dims[0]-1)))\n",
    "iD.Update()\n",
    "iD.GetOutput().GetPointData().SetActiveScalars(\"scalars\")\n",
    "\n",
    "print(\"mesh dimensions = \", iD.GetOutput().GetDimensions())\n",
    "assert iD.GetOutput().GetPointData().GetArray(0).GetName() == 'scalars'\n",
    "datarange = iD.GetOutput().GetPointData().GetArray(0).GetRange()\n",
    "print(\"data scalar range = \", datarange)\n",
    "\n",
    "# create a new 'PVTrivialProducer'\n",
    "pVTrivialProducer0 = PVTrivialProducer()\n",
    "obj = pVTrivialProducer0.GetClientSideObject()\n",
    "obj.SetOutput(iD.GetOutput())\n",
    "pVTrivialProducer0.UpdatePipeline()\n",
    "\n",
    "rep0 = Show(pVTrivialProducer0)\n",
    "rep0.Representation = 'Surface With Edges'"
   ]
  },
  {
   "cell_type": "code",
   "execution_count": null,
   "metadata": {},
   "outputs": [],
   "source": [
    "view = GetRenderView()\n",
    "from ipyparaview.widgets import PVDisplay\n",
    "disp = PVDisplay(view)\n",
    "w = display(disp)"
   ]
  },
  {
   "cell_type": "code",
   "execution_count": null,
   "metadata": {},
   "outputs": [],
   "source": [
    "rep0.Representation = 'Surface'\n",
    "ColorBy(rep0, \"scalars\")"
   ]
  },
  {
   "cell_type": "code",
   "execution_count": null,
   "metadata": {},
   "outputs": [],
   "source": [
    "Hide(pVTrivialProducer0)\n",
    "\n",
    "# create a rectilinear grid"
   ]
  },
  {
   "cell_type": "code",
   "execution_count": null,
   "metadata": {},
   "outputs": [],
   "source": [
    "dims = [64,64,64] # Radius dimension, Theta dimension, Z dimension\n",
    "xaxis = np.linspace(0., 1., dims[0])\n",
    "xaxis = xaxis**2\n",
    "yaxis = np.linspace(0., 1., dims[1])\n",
    "yaxis = np.sqrt(yaxis)\n",
    "zaxis = np.linspace(0., 1., dims[2])\n",
    "\n",
    "[xc,yc,zc] = np.meshgrid(zaxis,yaxis,xaxis, indexing=\"ij\")\n",
    "data = np.sqrt(xc**2 + yc**2 + zc**2)\n",
    "\n",
    "rG = vtkRectGridFromArrays()\n",
    "rG.SetCoordinates(xaxis, yaxis, zaxis)\n",
    "rG.AddArray(data, \"scalars\")\n",
    "\n",
    "print(\"RectilinearGrid dimensions = \", rG.GetDimensions())\n",
    "assert rG.GetOutput().GetPointData().GetArray(0).GetName() == 'scalars'\n",
    "datarange = rG.GetOutput().GetPointData().GetArray(\"scalars\").GetRange()\n",
    "print(\"RectilinearGrid  data scalar range = \", datarange)\n",
    "\n",
    "# create a new 'PVTrivialProducer'\n",
    "pVTrivialProducer1 = PVTrivialProducer()\n",
    "obj = pVTrivialProducer1.GetClientSideObject()\n",
    "obj.SetOutput(rG.GetOutput())\n",
    "pVTrivialProducer1.UpdatePipeline()\n",
    "\n",
    "rep1 = Show(pVTrivialProducer1)\n",
    "rep1.Representation = 'Surface With Edges'"
   ]
  },
  {
   "cell_type": "code",
   "execution_count": null,
   "metadata": {},
   "outputs": [],
   "source": [
    "ResetCamera()"
   ]
  },
  {
   "cell_type": "code",
   "execution_count": null,
   "metadata": {},
   "outputs": [],
   "source": [
    "rep1.Representation = 'Surface'\n",
    "ColorBy(rep1, 'scalars')"
   ]
  },
  {
   "cell_type": "code",
   "execution_count": null,
   "metadata": {},
   "outputs": [],
   "source": [
    "Hide(pVTrivialProducer1)\n",
    "\n",
    "# create a cylindrical - structured grid"
   ]
  },
  {
   "cell_type": "code",
   "execution_count": null,
   "metadata": {},
   "outputs": [],
   "source": [
    "dims = [13,27,15] # Radius dimension, Theta dimension, Z dimension\n",
    "Raxis = np.linspace(1., 2., dims[0])\n",
    "Thetaaxis = np.linspace(0.,np.pi*1.5, dims[1])\n",
    "Zaxis = np.linspace(0., 2.0, dims[2])\n",
    "Z, t, r = np.meshgrid(Zaxis, Thetaaxis, Raxis, indexing=\"ij\")\n",
    "X = r * np.cos(t)\n",
    "Y = r * np.sin(t)\n",
    "\n",
    "NsG = vtkStructuredGridFromArrays()\n",
    "NsG.SetCoordinates(X, Y, Z)\n",
    "NsG.AddArray(r.ravel(), \"radius\")\n",
    "NsG.AddArray(Z.ravel(), \"z-elevation\")\n",
    "NsG.AddArray(t.ravel(), \"angle\")\n",
    "\n",
    "print(\"StructuredGrid mesh dimensions = \", NsG.GetDimensions())\n",
    "print(\"StructuredGrid mesh bounds = \", NsG.GetOutput().GetBounds())\n",
    "assert NsG.GetOutput().GetPointData().GetArray(1).GetName() == 'z-elevation'\n",
    "datarange = NsG.GetOutput().GetPointData().GetArray(\"z-elevation\").GetRange()\n",
    "print(\"StructuredGrid data scalar range = \", datarange)\n",
    "\n",
    "# create a new 'PVTrivialProducer'\n",
    "pVTrivialProducer2 = PVTrivialProducer()\n",
    "obj = pVTrivialProducer2.GetClientSideObject()\n",
    "obj.SetOutput(NsG.GetOutput())\n",
    "pVTrivialProducer2.UpdatePipeline()\n",
    "\n",
    "rep2 = Show(pVTrivialProducer2)\n",
    "rep2.Representation = 'Surface With Edges'\n"
   ]
  },
  {
   "cell_type": "code",
   "execution_count": null,
   "metadata": {},
   "outputs": [],
   "source": [
    "ColorBy(rep2, \"radius\")"
   ]
  },
  {
   "cell_type": "code",
   "execution_count": null,
   "metadata": {},
   "outputs": [],
   "source": [
    "ResetCamera()"
   ]
  },
  {
   "cell_type": "code",
   "execution_count": null,
   "metadata": {},
   "outputs": [],
   "source": [
    "Hide(pVTrivialProducer2)\n",
    "\n",
    "# create a a point cloud - vtkPolyData"
   ]
  },
  {
   "cell_type": "code",
   "execution_count": null,
   "metadata": {},
   "outputs": [],
   "source": [
    "nbpts = 10000\n",
    "X = np.random.random_sample((nbpts, 3))\n",
    "\n",
    "PC = vtkPointSetFromArrays()\n",
    "#PC.SetCoordinates(X[:,0], X[:,1],X[:,2])\n",
    "PC.SetVCoordinates(X)\n",
    "PC.AddArray(X[:,0]*X[:,0] + X[:,1]*X[:,1] + X[:,2]*X[:,2], \"distancesq\")\n",
    "PC.AddArray(X[:,0], \"X\")\n",
    "\n",
    "print(\"Point Cloud has\", PC.GetOutput().GetNumberOfPoints(), \"vertices\")\n",
    "# create a new 'PVTrivialProducer'\n",
    "pVTrivialProducer3 = PVTrivialProducer(guiName=\"Point Cloud\")\n",
    "obj = pVTrivialProducer3.GetClientSideObject()\n",
    "obj.SetOutput(PC.GetOutput())\n",
    "pVTrivialProducer3.UpdatePipeline()\n",
    "\n",
    "rep3=Show(pVTrivialProducer3)\n",
    "rep3.Representation = 'Points'"
   ]
  },
  {
   "cell_type": "code",
   "execution_count": null,
   "metadata": {},
   "outputs": [],
   "source": [
    "ResetCamera()"
   ]
  }
 ],
 "metadata": {
  "kernelspec": {
   "display_name": "Python 3",
   "language": "python",
   "name": "python3"
  },
  "language_info": {
   "codemirror_mode": {
    "name": "ipython",
    "version": 3
   },
   "file_extension": ".py",
   "mimetype": "text/x-python",
   "name": "python",
   "nbconvert_exporter": "python",
   "pygments_lexer": "ipython3",
   "version": "3.8.5"
  }
 },
 "nbformat": 4,
 "nbformat_minor": 4
}
