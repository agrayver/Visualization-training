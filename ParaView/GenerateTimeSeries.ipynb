{
 "cells": [
  {
   "cell_type": "code",
   "execution_count": null,
   "metadata": {},
   "outputs": [],
   "source": [
    "from paraview.simple import *\n",
    "import numpy as np"
   ]
  },
  {
   "cell_type": "code",
   "execution_count": null,
   "metadata": {},
   "outputs": [],
   "source": [
    "RequestInfo = \"\"\"\n",
    "import numpy as np\n",
    "executive = self.GetExecutive ()\n",
    "outInfo = executive.GetOutputInformation(0)\n",
    "\n",
    "dims = [24,24,24]\n",
    "outInfo.Set(executive.WHOLE_EXTENT(), 0, dims[0]-1 , 0, dims[1]-1 , 0, dims[2]-1)\n",
    "outInfo.Set(vtk.vtkDataObject.SPACING(), 1, 1, 1)\n",
    "outInfo.Set(vtk.vtkDataObject.ORIGIN(), 0,0,0)\n",
    "\n",
    "outInfo.Set(vtk.vtkAlgorithm.CAN_PRODUCE_SUB_EXTENT(), 1)\n",
    "\n",
    "# advertize that we can produce N timesteps, and give the timestep values\n",
    "timesteps = np.arange(32)*.1\n",
    "outInfo.Remove(executive.TIME_STEPS())\n",
    "for timestep in timesteps:\n",
    "  outInfo.Append(executive.TIME_STEPS(), timestep)\n",
    "outInfo.Remove(executive.TIME_RANGE())\n",
    "outInfo.Append(executive.TIME_RANGE(), timesteps[0])\n",
    "outInfo.Append(executive.TIME_RANGE(), timesteps[-1])\n",
    "\"\"\""
   ]
  },
  {
   "cell_type": "code",
   "execution_count": null,
   "metadata": {},
   "outputs": [],
   "source": [
    "RequestData = \"\"\"\n",
    "import numpy as np\n",
    "executive = self.GetExecutive()\n",
    "outInfo = executive.GetOutputInformation(0)\n",
    "# find out the extents requested by the downstream pipeline\n",
    "exts = [executive.UPDATE_EXTENT().Get(outInfo, i) for i in range(6)]\n",
    "# find out the timestep value requested by the downstream pipeline\n",
    "ts = executive.UPDATE_TIME_STEP().Get(outInfo)\n",
    "\n",
    "dims = (exts[1]-exts[0]+1, exts[3]-exts[2]+1, exts[5]-exts[4]+1)\n",
    "# create a grid of given dimensions \n",
    "output.SetExtent(exts)\n",
    "\n",
    "# make up some data\n",
    "xaxis = np.linspace(-.5, 1., dims[0])\n",
    "yaxis = np.linspace(-1.,1., dims[1])\n",
    "zaxis = np.linspace(-1., .5, dims[2])\n",
    "[xc,yc,zc] = np.meshgrid(zaxis,yaxis,xaxis, indexing=\"ij\")\n",
    "#data is time-dependent becasue we use a function of ts\n",
    "data = .1*ts +sin(ts) + np.sqrt(xc**2 + yc**2 + zc**2, dtype='f')\n",
    "\n",
    "output.PointData.append(data.ravel(), \"scalarA\")\n",
    "\"\"\""
   ]
  },
  {
   "cell_type": "code",
   "execution_count": null,
   "metadata": {},
   "outputs": [],
   "source": [
    "programmableSource1 = ProgrammableSource()\n",
    "programmableSource1.OutputDataSetType = 'vtkImageData'\n",
    "programmableSource1.Script = RequestData\n",
    "programmableSource1.ScriptRequestInformation = RequestInfo\n",
    "programmableSource1.UpdatePipelineInformation()"
   ]
  },
  {
   "cell_type": "code",
   "execution_count": null,
   "metadata": {},
   "outputs": [],
   "source": [
    "rep = Show()\n",
    "rep.Representation = \"Surface\"\n",
    "rep.ColorArrayName = ['POINTS', 'scalarA']"
   ]
  },
  {
   "cell_type": "code",
   "execution_count": null,
   "metadata": {},
   "outputs": [],
   "source": [
    "view = GetRenderView()\n",
    "view.CenterOfRotation = [11.5, 11.5, 11.5]\n",
    "view.CameraPosition = [-23.571178826671265, 48.60210090801749, 74.13620782160231]\n",
    "view.CameraFocalPoint = [11.5, 11.5, 11.5]\n",
    "view.CameraViewUp = [0.12769986770432634, 0.8830512871745115, -0.45156745676336757]\n",
    "view.CameraParallelScale = 19.91858428704209\n",
    "\n",
    "from ipyparaview.widgets import PVDisplay\n",
    "disp = PVDisplay(view)\n",
    "w = display(disp)"
   ]
  },
  {
   "cell_type": "code",
   "execution_count": null,
   "metadata": {},
   "outputs": [],
   "source": [
    "#SaveData('ts.vti', Writetimestepsasfileseries=1, Filenamesuffix='_%02d')"
   ]
  },
  {
   "cell_type": "code",
   "execution_count": null,
   "metadata": {},
   "outputs": [],
   "source": []
  }
 ],
 "metadata": {
  "kernelspec": {
   "display_name": "Python 3",
   "language": "python",
   "name": "python3"
  },
  "language_info": {
   "codemirror_mode": {
    "name": "ipython",
    "version": 3
   },
   "file_extension": ".py",
   "mimetype": "text/x-python",
   "name": "python",
   "nbconvert_exporter": "python",
   "pygments_lexer": "ipython3",
   "version": "3.8.5"
  }
 },
 "nbformat": 4,
 "nbformat_minor": 4
}
